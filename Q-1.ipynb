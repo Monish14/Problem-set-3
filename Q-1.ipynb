{
 "cells": [
  {
   "cell_type": "markdown",
   "metadata": {},
   "source": [
    "## Question1\n",
    "\n",
    "Occupations\n",
    "\n",
    "Step 1. Import the necessary libraries\n",
    "\n",
    "Step 2. Import the dataset from this address.\n",
    "\n",
    "Step 3. Assign it to a variable called users\n",
    "\n",
    "Step 4. Discover what is the mean age per occupation\n",
    "\n",
    "Step 5. Discover the Male ratio per occupation and sort it from the most to the least\n",
    "\n",
    "Step 6. For each occupation, calculate the minimum and maximum ages\n",
    "\n",
    "Step 7. For each combination of occupation and sex, calculate the mean age\n",
    "\n",
    "Step 8. For each occupation present the percentage of women and men"
   ]
  },
  {
   "cell_type": "markdown",
   "metadata": {},
   "source": [
    "Step1"
   ]
  },
  {
   "cell_type": "code",
   "execution_count": 1,
   "metadata": {},
   "outputs": [],
   "source": [
    "import pandas as pd"
   ]
  },
  {
   "cell_type": "markdown",
   "metadata": {},
   "source": [
    "Step2"
   ]
  },
  {
   "cell_type": "code",
   "execution_count": null,
   "metadata": {},
   "outputs": [],
   "source": [
    "read_file = pd.read_csv (r'C:\\Users\\DELL\\Desktop\\Monish\\Data Programming\\Assignment-3\\Q1.txt')\n",
    "read_file.to_csv (r'C:\\Users\\DELL\\Desktop\\Monish\\Data Programming\\Assignment-3\\Q1.csv', index=None)"
   ]
  },
  {
   "cell_type": "markdown",
   "metadata": {},
   "source": [
    "Step3"
   ]
  },
  {
   "cell_type": "code",
   "execution_count": 2,
   "metadata": {},
   "outputs": [],
   "source": [
    "users=pd.read_csv(r'C:\\Users\\DELL\\Desktop\\Monish\\Data Programming\\Assignment-3\\Q1.csv')"
   ]
  },
  {
   "cell_type": "markdown",
   "metadata": {},
   "source": [
    "Step4"
   ]
  },
  {
   "cell_type": "code",
   "execution_count": 3,
   "metadata": {},
   "outputs": [
    {
     "data": {
      "text/plain": [
       "occupation\n",
       "administrator    37.897436\n",
       "artist           32.500000\n",
       "doctor           34.333333\n",
       "educator         40.585366\n",
       "engineer         38.500000\n",
       "entertainment    27.000000\n",
       "executive        37.000000\n",
       "healthcare       43.000000\n",
       "homemaker        32.250000\n",
       "lawyer           38.857143\n",
       "librarian        36.260870\n",
       "marketing        39.090909\n",
       "none             23.000000\n",
       "other            36.685714\n",
       "programmer       34.060606\n",
       "retired          62.800000\n",
       "salesman         35.200000\n",
       "scientist        36.357143\n",
       "student          22.192771\n",
       "technician       34.300000\n",
       "writer           35.000000\n",
       "Name: age, dtype: float64"
      ]
     },
     "execution_count": 3,
     "metadata": {},
     "output_type": "execute_result"
    }
   ],
   "source": [
    "users.groupby('occupation').age.mean()"
   ]
  },
  {
   "cell_type": "markdown",
   "metadata": {},
   "source": [
    "Step5"
   ]
  },
  {
   "cell_type": "code",
   "execution_count": 4,
   "metadata": {},
   "outputs": [
    {
     "data": {
      "text/plain": [
       "occupation     gender\n",
       "administrator  M         23\n",
       "               F         16\n",
       "artist         F          7\n",
       "               M          7\n",
       "doctor         M          3\n",
       "educator       M         29\n",
       "               F         12\n",
       "engineer       M         32\n",
       "entertainment  M         10\n",
       "executive      M         16\n",
       "               F          2\n",
       "healthcare     F          3\n",
       "               M          3\n",
       "homemaker      F          4\n",
       "lawyer         M          6\n",
       "               F          1\n",
       "librarian      F         16\n",
       "               M          7\n",
       "marketing      M          7\n",
       "               F          4\n",
       "none           M          4\n",
       "               F          1\n",
       "other          M         20\n",
       "               F         15\n",
       "programmer     M         29\n",
       "               F          4\n",
       "retired        M          5\n",
       "salesman       M          5\n",
       "scientist      M         13\n",
       "               F          1\n",
       "student        M         58\n",
       "               F         25\n",
       "technician     M         10\n",
       "writer         M         12\n",
       "               F          5\n",
       "Name: gender, dtype: int64"
      ]
     },
     "execution_count": 4,
     "metadata": {},
     "output_type": "execute_result"
    }
   ],
   "source": [
    "users.groupby('occupation').gender.value_counts(dropna=False)"
   ]
  },
  {
   "cell_type": "markdown",
   "metadata": {},
   "source": [
    "Step6"
   ]
  },
  {
   "cell_type": "code",
   "execution_count": 5,
   "metadata": {},
   "outputs": [
    {
     "data": {
      "text/html": [
       "<div>\n",
       "<style scoped>\n",
       "    .dataframe tbody tr th:only-of-type {\n",
       "        vertical-align: middle;\n",
       "    }\n",
       "\n",
       "    .dataframe tbody tr th {\n",
       "        vertical-align: top;\n",
       "    }\n",
       "\n",
       "    .dataframe thead th {\n",
       "        text-align: right;\n",
       "    }\n",
       "</style>\n",
       "<table border=\"1\" class=\"dataframe\">\n",
       "  <thead>\n",
       "    <tr style=\"text-align: right;\">\n",
       "      <th></th>\n",
       "      <th>min</th>\n",
       "      <th>max</th>\n",
       "    </tr>\n",
       "    <tr>\n",
       "      <th>occupation</th>\n",
       "      <th></th>\n",
       "      <th></th>\n",
       "    </tr>\n",
       "  </thead>\n",
       "  <tbody>\n",
       "    <tr>\n",
       "      <th>administrator</th>\n",
       "      <td>21</td>\n",
       "      <td>62</td>\n",
       "    </tr>\n",
       "    <tr>\n",
       "      <th>artist</th>\n",
       "      <td>20</td>\n",
       "      <td>48</td>\n",
       "    </tr>\n",
       "    <tr>\n",
       "      <th>doctor</th>\n",
       "      <td>28</td>\n",
       "      <td>46</td>\n",
       "    </tr>\n",
       "    <tr>\n",
       "      <th>educator</th>\n",
       "      <td>23</td>\n",
       "      <td>61</td>\n",
       "    </tr>\n",
       "    <tr>\n",
       "      <th>engineer</th>\n",
       "      <td>22</td>\n",
       "      <td>63</td>\n",
       "    </tr>\n",
       "    <tr>\n",
       "      <th>entertainment</th>\n",
       "      <td>15</td>\n",
       "      <td>41</td>\n",
       "    </tr>\n",
       "    <tr>\n",
       "      <th>executive</th>\n",
       "      <td>22</td>\n",
       "      <td>49</td>\n",
       "    </tr>\n",
       "    <tr>\n",
       "      <th>healthcare</th>\n",
       "      <td>22</td>\n",
       "      <td>53</td>\n",
       "    </tr>\n",
       "    <tr>\n",
       "      <th>homemaker</th>\n",
       "      <td>20</td>\n",
       "      <td>42</td>\n",
       "    </tr>\n",
       "    <tr>\n",
       "      <th>lawyer</th>\n",
       "      <td>28</td>\n",
       "      <td>53</td>\n",
       "    </tr>\n",
       "    <tr>\n",
       "      <th>librarian</th>\n",
       "      <td>25</td>\n",
       "      <td>54</td>\n",
       "    </tr>\n",
       "    <tr>\n",
       "      <th>marketing</th>\n",
       "      <td>24</td>\n",
       "      <td>55</td>\n",
       "    </tr>\n",
       "    <tr>\n",
       "      <th>none</th>\n",
       "      <td>11</td>\n",
       "      <td>35</td>\n",
       "    </tr>\n",
       "    <tr>\n",
       "      <th>other</th>\n",
       "      <td>13</td>\n",
       "      <td>56</td>\n",
       "    </tr>\n",
       "    <tr>\n",
       "      <th>programmer</th>\n",
       "      <td>20</td>\n",
       "      <td>53</td>\n",
       "    </tr>\n",
       "    <tr>\n",
       "      <th>retired</th>\n",
       "      <td>60</td>\n",
       "      <td>68</td>\n",
       "    </tr>\n",
       "    <tr>\n",
       "      <th>salesman</th>\n",
       "      <td>21</td>\n",
       "      <td>66</td>\n",
       "    </tr>\n",
       "    <tr>\n",
       "      <th>scientist</th>\n",
       "      <td>25</td>\n",
       "      <td>45</td>\n",
       "    </tr>\n",
       "    <tr>\n",
       "      <th>student</th>\n",
       "      <td>7</td>\n",
       "      <td>42</td>\n",
       "    </tr>\n",
       "    <tr>\n",
       "      <th>technician</th>\n",
       "      <td>24</td>\n",
       "      <td>55</td>\n",
       "    </tr>\n",
       "    <tr>\n",
       "      <th>writer</th>\n",
       "      <td>21</td>\n",
       "      <td>52</td>\n",
       "    </tr>\n",
       "  </tbody>\n",
       "</table>\n",
       "</div>"
      ],
      "text/plain": [
       "               min  max\n",
       "occupation             \n",
       "administrator   21   62\n",
       "artist          20   48\n",
       "doctor          28   46\n",
       "educator        23   61\n",
       "engineer        22   63\n",
       "entertainment   15   41\n",
       "executive       22   49\n",
       "healthcare      22   53\n",
       "homemaker       20   42\n",
       "lawyer          28   53\n",
       "librarian       25   54\n",
       "marketing       24   55\n",
       "none            11   35\n",
       "other           13   56\n",
       "programmer      20   53\n",
       "retired         60   68\n",
       "salesman        21   66\n",
       "scientist       25   45\n",
       "student          7   42\n",
       "technician      24   55\n",
       "writer          21   52"
      ]
     },
     "execution_count": 5,
     "metadata": {},
     "output_type": "execute_result"
    }
   ],
   "source": [
    "users.groupby('occupation').age.agg([min,max])"
   ]
  },
  {
   "cell_type": "markdown",
   "metadata": {},
   "source": [
    "Step7"
   ]
  },
  {
   "cell_type": "code",
   "execution_count": 6,
   "metadata": {},
   "outputs": [
    {
     "data": {
      "text/plain": [
       "occupation     gender\n",
       "administrator  F         40.250000\n",
       "               M         36.260870\n",
       "artist         F         30.571429\n",
       "               M         34.428571\n",
       "doctor         M         34.333333\n",
       "educator       F         39.250000\n",
       "               M         41.137931\n",
       "engineer       M         38.500000\n",
       "entertainment  M         27.000000\n",
       "executive      F         44.000000\n",
       "               M         36.125000\n",
       "healthcare     F         40.333333\n",
       "               M         45.666667\n",
       "homemaker      F         32.250000\n",
       "lawyer         F         28.000000\n",
       "               M         40.666667\n",
       "librarian      F         35.500000\n",
       "               M         38.000000\n",
       "marketing      F         30.500000\n",
       "               M         44.000000\n",
       "none           F         35.000000\n",
       "               M         20.000000\n",
       "other          F         35.800000\n",
       "               M         37.350000\n",
       "programmer     F         31.750000\n",
       "               M         34.379310\n",
       "retired        M         62.800000\n",
       "salesman       M         35.200000\n",
       "scientist      F         26.000000\n",
       "               M         37.153846\n",
       "student        F         21.400000\n",
       "               M         22.534483\n",
       "technician     M         34.300000\n",
       "writer         F         39.600000\n",
       "               M         33.083333\n",
       "Name: age, dtype: float64"
      ]
     },
     "execution_count": 6,
     "metadata": {},
     "output_type": "execute_result"
    }
   ],
   "source": [
    "users.groupby(['occupation','gender']).age.mean()"
   ]
  },
  {
   "cell_type": "markdown",
   "metadata": {},
   "source": [
    "Step8"
   ]
  },
  {
   "cell_type": "code",
   "execution_count": 7,
   "metadata": {},
   "outputs": [
    {
     "data": {
      "text/plain": [
       "occupation     gender\n",
       "administrator  M          59.0%\n",
       "               F          41.0%\n",
       "artist         F          50.0%\n",
       "               M          50.0%\n",
       "doctor         M         100.0%\n",
       "educator       M          70.7%\n",
       "               F          29.3%\n",
       "engineer       M         100.0%\n",
       "entertainment  M         100.0%\n",
       "executive      M          88.9%\n",
       "               F          11.1%\n",
       "healthcare     F          50.0%\n",
       "               M          50.0%\n",
       "homemaker      F         100.0%\n",
       "lawyer         M          85.7%\n",
       "               F          14.3%\n",
       "librarian      F          69.6%\n",
       "               M          30.4%\n",
       "marketing      M          63.6%\n",
       "               F          36.4%\n",
       "none           M          80.0%\n",
       "               F          20.0%\n",
       "other          M          57.1%\n",
       "               F          42.9%\n",
       "programmer     M          87.9%\n",
       "               F          12.1%\n",
       "retired        M         100.0%\n",
       "salesman       M         100.0%\n",
       "scientist      M          92.9%\n",
       "               F           7.1%\n",
       "student        M          69.9%\n",
       "               F          30.1%\n",
       "technician     M         100.0%\n",
       "writer         M          70.6%\n",
       "               F          29.4%\n",
       "Name: gender, dtype: object"
      ]
     },
     "execution_count": 7,
     "metadata": {},
     "output_type": "execute_result"
    }
   ],
   "source": [
    "users.groupby('occupation').gender.value_counts(normalize=True).mul(100).round(1).astype(str) + '%'"
   ]
  },
  {
   "cell_type": "code",
   "execution_count": null,
   "metadata": {},
   "outputs": [],
   "source": []
  }
 ],
 "metadata": {
  "kernelspec": {
   "display_name": "Python 3",
   "language": "python",
   "name": "python3"
  },
  "language_info": {
   "codemirror_mode": {
    "name": "ipython",
    "version": 3
   },
   "file_extension": ".py",
   "mimetype": "text/x-python",
   "name": "python",
   "nbconvert_exporter": "python",
   "pygments_lexer": "ipython3",
   "version": "3.7.6"
  }
 },
 "nbformat": 4,
 "nbformat_minor": 4
}
