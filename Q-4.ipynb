{
 "cells": [
  {
   "cell_type": "markdown",
   "metadata": {},
   "source": [
    "## Question 4\n",
    "\n",
    "Wind Statistics\n",
    "\n",
    "The data have been modified to contain some missing values, identified by NaN.\n",
    "Using pandas should make this exercise easier, in particular for the bonus question.\n",
    "\n",
    "You should be able to perform all of these operations without using a for loop or\n",
    "other looping construct.\n",
    "\n",
    "Step 1. Import the necessary libraries\n",
    "\n",
    "Step 2. Import the dataset from this address\n",
    "\n",
    "Step 3. Assign it to a variable called data and replace the first 3 columns by a proper\n",
    "datetime index.\n",
    "\n",
    "Step 4. Year 2061? Do we really have data from this year? Create a function to fix it\n",
    "and apply it.\n",
    "\n",
    "Step 5. Set the right dates as the index. Pay attention at the data type, it should be\n",
    "datetime64[ns].\n",
    "\n",
    "Step 6. Compute how many values are missing for each location over the entire\n",
    "record.They should be ignored in all calculations below.\n",
    "\n",
    "Step 7. Compute how many non-missing values there are in total.\n",
    "\n",
    "Step 8. Calculate the mean windspeeds of the windspeeds over all the locations and\n",
    "all the times.\n",
    "A single number for the entire dataset.\n",
    "\n",
    "Step 9. Create a DataFrame called loc_stats and calculate the min, max and mean\n",
    "windspeeds and standard deviations of the windspeeds at each location over all the\n",
    "days\n",
    "A different set of numbers for each location.\n",
    "\n",
    "Step 10. Create a DataFrame called day_stats and calculate the min, max and mean\n",
    "windspeed and standard deviations of the windspeeds across all the locations at each\n",
    "day.\n",
    "A different set of numbers for each day.\n",
    "\n",
    "Step 11. Find the average windspeed in January for each location.\n",
    "Treat January 1961 and January 1962 both as January.\n",
    "\n",
    "Step 12. Downsample the record to a yearly frequency for each location.\n",
    "\n",
    "Step 13. Downsample the record to a monthly frequency for each location.\n",
    "\n",
    "Step 14. Downsample the record to a weekly frequency for each location.\n",
    "\n",
    "Step 15. Calculate the min, max and mean windspeeds and standard deviations of the\n",
    "windspeeds across all locations for each week (assume that the first week starts on\n",
    "January 2 1961) for the first 52 weeks."
   ]
  },
  {
   "cell_type": "markdown",
   "metadata": {},
   "source": [
    "Step1"
   ]
  },
  {
   "cell_type": "code",
   "execution_count": 2,
   "metadata": {},
   "outputs": [],
   "source": [
    "import pandas as pd"
   ]
  },
  {
   "cell_type": "markdown",
   "metadata": {},
   "source": [
    "Step2"
   ]
  },
  {
   "cell_type": "code",
   "execution_count": 8,
   "metadata": {},
   "outputs": [],
   "source": [
    "read_file = pd.read_csv (r'C:\\Users\\DELL\\Desktop\\Monish\\Data Programming\\Assignment-3\\Q3.txt')\n",
    "read_file.to_csv (r'C:\\Users\\DELL\\Desktop\\Monish\\Data Programming\\Assignment-3\\Q4.csv', index=None)"
   ]
  },
  {
   "cell_type": "markdown",
   "metadata": {},
   "source": [
    "Step3"
   ]
  },
  {
   "cell_type": "code",
   "execution_count": 13,
   "metadata": {},
   "outputs": [],
   "source": [
    "data = pd.read_csv(r'C:\\Users\\DELL\\Desktop\\Monish\\Data Programming\\Assignment-3\\Q4.csv')"
   ]
  },
  {
   "cell_type": "markdown",
   "metadata": {},
   "source": [
    "Step4"
   ]
  },
  {
   "cell_type": "code",
   "execution_count": null,
   "metadata": {},
   "outputs": [],
   "source": [
    "data['Yr'] = '19' + data4['Yr'].astype(str)"
   ]
  },
  {
   "cell_type": "markdown",
   "metadata": {},
   "source": [
    "Step5"
   ]
  },
  {
   "cell_type": "code",
   "execution_count": null,
   "metadata": {},
   "outputs": [],
   "source": []
  },
  {
   "cell_type": "markdown",
   "metadata": {},
   "source": [
    "Step6"
   ]
  },
  {
   "cell_type": "code",
   "execution_count": null,
   "metadata": {},
   "outputs": [],
   "source": []
  },
  {
   "cell_type": "markdown",
   "metadata": {},
   "source": [
    "Step6"
   ]
  },
  {
   "cell_type": "code",
   "execution_count": 29,
   "metadata": {},
   "outputs": [
    {
     "data": {
      "text/plain": [
       "False"
      ]
     },
     "execution_count": 29,
     "metadata": {},
     "output_type": "execute_result"
    }
   ],
   "source": [
    "data.empty"
   ]
  },
  {
   "cell_type": "code",
   "execution_count": 28,
   "metadata": {},
   "outputs": [
    {
     "data": {
      "text/plain": [
       "True"
      ]
     },
     "execution_count": 28,
     "metadata": {},
     "output_type": "execute_result"
    }
   ],
   "source": [
    "data.isnull().values.any()"
   ]
  },
  {
   "cell_type": "code",
   "execution_count": 26,
   "metadata": {},
   "outputs": [
    {
     "data": {
      "text/plain": [
       "31"
      ]
     },
     "execution_count": 26,
     "metadata": {},
     "output_type": "execute_result"
    }
   ],
   "source": [
    "data.isnull().sum().sum()"
   ]
  },
  {
   "cell_type": "markdown",
   "metadata": {},
   "source": [
    "Step8"
   ]
  },
  {
   "cell_type": "code",
   "execution_count": 31,
   "metadata": {},
   "outputs": [
    {
     "data": {
      "text/plain": [
       "RPT    12.362987\n",
       "VAL    10.644314\n",
       "ROS    11.660526\n",
       "KIL     6.306468\n",
       "SHA    10.455834\n",
       "BIR     7.092254\n",
       "DUB     9.797343\n",
       "CLA     8.495053\n",
       "MUL     8.493590\n",
       "CLO     8.707332\n",
       "BEL    13.121007\n",
       "dtype: float64"
      ]
     },
     "execution_count": 31,
     "metadata": {},
     "output_type": "execute_result"
    }
   ],
   "source": [
    "data.mean()[3:14]"
   ]
  },
  {
   "cell_type": "markdown",
   "metadata": {},
   "source": [
    "Step9"
   ]
  },
  {
   "cell_type": "code",
   "execution_count": 34,
   "metadata": {},
   "outputs": [
    {
     "data": {
      "text/html": [
       "<div>\n",
       "<style scoped>\n",
       "    .dataframe tbody tr th:only-of-type {\n",
       "        vertical-align: middle;\n",
       "    }\n",
       "\n",
       "    .dataframe tbody tr th {\n",
       "        vertical-align: top;\n",
       "    }\n",
       "\n",
       "    .dataframe thead th {\n",
       "        text-align: right;\n",
       "    }\n",
       "</style>\n",
       "<table border=\"1\" class=\"dataframe\">\n",
       "  <thead>\n",
       "    <tr style=\"text-align: right;\">\n",
       "      <th></th>\n",
       "      <th>Location</th>\n",
       "      <th>Minimun</th>\n",
       "      <th>Maximun</th>\n",
       "      <th>Mean</th>\n",
       "      <th>Standard Deviation</th>\n",
       "    </tr>\n",
       "  </thead>\n",
       "  <tbody>\n",
       "    <tr>\n",
       "      <th>0</th>\n",
       "      <td>RPT</td>\n",
       "      <td>0.67</td>\n",
       "      <td>35.80</td>\n",
       "      <td>12.362987</td>\n",
       "      <td>5.618413</td>\n",
       "    </tr>\n",
       "    <tr>\n",
       "      <th>1</th>\n",
       "      <td>VAL</td>\n",
       "      <td>0.21</td>\n",
       "      <td>33.37</td>\n",
       "      <td>10.644314</td>\n",
       "      <td>5.267356</td>\n",
       "    </tr>\n",
       "    <tr>\n",
       "      <th>2</th>\n",
       "      <td>ROS</td>\n",
       "      <td>1.50</td>\n",
       "      <td>33.84</td>\n",
       "      <td>11.660526</td>\n",
       "      <td>5.008450</td>\n",
       "    </tr>\n",
       "    <tr>\n",
       "      <th>3</th>\n",
       "      <td>KIL</td>\n",
       "      <td>0.00</td>\n",
       "      <td>28.46</td>\n",
       "      <td>6.306468</td>\n",
       "      <td>3.605811</td>\n",
       "    </tr>\n",
       "    <tr>\n",
       "      <th>4</th>\n",
       "      <td>SHA</td>\n",
       "      <td>0.13</td>\n",
       "      <td>37.54</td>\n",
       "      <td>10.455834</td>\n",
       "      <td>4.936125</td>\n",
       "    </tr>\n",
       "    <tr>\n",
       "      <th>5</th>\n",
       "      <td>BIR</td>\n",
       "      <td>0.00</td>\n",
       "      <td>26.16</td>\n",
       "      <td>7.092254</td>\n",
       "      <td>3.968683</td>\n",
       "    </tr>\n",
       "    <tr>\n",
       "      <th>6</th>\n",
       "      <td>DUB</td>\n",
       "      <td>0.00</td>\n",
       "      <td>30.37</td>\n",
       "      <td>9.797343</td>\n",
       "      <td>4.977555</td>\n",
       "    </tr>\n",
       "    <tr>\n",
       "      <th>7</th>\n",
       "      <td>CLA</td>\n",
       "      <td>0.00</td>\n",
       "      <td>31.08</td>\n",
       "      <td>8.495053</td>\n",
       "      <td>4.499449</td>\n",
       "    </tr>\n",
       "    <tr>\n",
       "      <th>8</th>\n",
       "      <td>MUL</td>\n",
       "      <td>0.00</td>\n",
       "      <td>25.88</td>\n",
       "      <td>8.493590</td>\n",
       "      <td>4.166872</td>\n",
       "    </tr>\n",
       "    <tr>\n",
       "      <th>9</th>\n",
       "      <td>CLO</td>\n",
       "      <td>0.04</td>\n",
       "      <td>28.21</td>\n",
       "      <td>8.707332</td>\n",
       "      <td>4.503954</td>\n",
       "    </tr>\n",
       "    <tr>\n",
       "      <th>10</th>\n",
       "      <td>BEL</td>\n",
       "      <td>0.13</td>\n",
       "      <td>42.38</td>\n",
       "      <td>13.121007</td>\n",
       "      <td>5.835037</td>\n",
       "    </tr>\n",
       "  </tbody>\n",
       "</table>\n",
       "</div>"
      ],
      "text/plain": [
       "   Location  Minimun  Maximun       Mean  Standard Deviation\n",
       "0       RPT     0.67    35.80  12.362987            5.618413\n",
       "1       VAL     0.21    33.37  10.644314            5.267356\n",
       "2       ROS     1.50    33.84  11.660526            5.008450\n",
       "3       KIL     0.00    28.46   6.306468            3.605811\n",
       "4       SHA     0.13    37.54  10.455834            4.936125\n",
       "5       BIR     0.00    26.16   7.092254            3.968683\n",
       "6       DUB     0.00    30.37   9.797343            4.977555\n",
       "7       CLA     0.00    31.08   8.495053            4.499449\n",
       "8       MUL     0.00    25.88   8.493590            4.166872\n",
       "9       CLO     0.04    28.21   8.707332            4.503954\n",
       "10      BEL     0.13    42.38  13.121007            5.835037"
      ]
     },
     "execution_count": 34,
     "metadata": {},
     "output_type": "execute_result"
    }
   ],
   "source": [
    "g0=data.columns[3:14]\n",
    "\n",
    "g1=data.min()[3:14].tolist()\n",
    "\n",
    "g2=data.max()[3:14].tolist()\n",
    "\n",
    "g3=data.mean()[3:14].tolist()\n",
    "\n",
    "g4=data.std()[3:14].tolist()\n",
    "\n",
    "e={'Location':g0,'Minimun':g1,'Maximun':g2,'Mean':g3,'Standard Deviation':g4}\n",
    "loc_stats=pd.DataFrame(e)\n",
    "loc_stats"
   ]
  },
  {
   "cell_type": "markdown",
   "metadata": {},
   "source": [
    "Step10"
   ]
  },
  {
   "cell_type": "code",
   "execution_count": null,
   "metadata": {},
   "outputs": [],
   "source": []
  },
  {
   "cell_type": "markdown",
   "metadata": {},
   "source": [
    "Step11"
   ]
  },
  {
   "cell_type": "code",
   "execution_count": 36,
   "metadata": {},
   "outputs": [
    {
     "data": {
      "text/plain": [
       "0.08487982963188317"
      ]
     },
     "execution_count": 36,
     "metadata": {},
     "output_type": "execute_result"
    }
   ],
   "source": [
    "mon=[1]\n",
    "res=data['Mon'].isin(mon)\n",
    "res.mean()"
   ]
  },
  {
   "cell_type": "markdown",
   "metadata": {},
   "source": [
    "Step12"
   ]
  },
  {
   "cell_type": "code",
   "execution_count": 38,
   "metadata": {},
   "outputs": [
    {
     "data": {
      "text/html": [
       "<div>\n",
       "<style scoped>\n",
       "    .dataframe tbody tr th:only-of-type {\n",
       "        vertical-align: middle;\n",
       "    }\n",
       "\n",
       "    .dataframe tbody tr th {\n",
       "        vertical-align: top;\n",
       "    }\n",
       "\n",
       "    .dataframe thead th {\n",
       "        text-align: right;\n",
       "    }\n",
       "</style>\n",
       "<table border=\"1\" class=\"dataframe\">\n",
       "  <thead>\n",
       "    <tr style=\"text-align: right;\">\n",
       "      <th></th>\n",
       "      <th>Yr</th>\n",
       "      <th>Mon</th>\n",
       "      <th>Dy</th>\n",
       "      <th>RPT</th>\n",
       "      <th>VAL</th>\n",
       "      <th>ROS</th>\n",
       "      <th>KIL</th>\n",
       "      <th>SHA</th>\n",
       "      <th>BIR</th>\n",
       "      <th>DUB</th>\n",
       "      <th>CLA</th>\n",
       "      <th>MUL</th>\n",
       "      <th>CLO</th>\n",
       "      <th>BEL</th>\n",
       "      <th>MAL</th>\n",
       "    </tr>\n",
       "  </thead>\n",
       "  <tbody>\n",
       "    <tr>\n",
       "      <th>0</th>\n",
       "      <td>61</td>\n",
       "      <td>1</td>\n",
       "      <td>1</td>\n",
       "      <td>15.04</td>\n",
       "      <td>14.96</td>\n",
       "      <td>13.17</td>\n",
       "      <td>9.29</td>\n",
       "      <td>NaN</td>\n",
       "      <td>9.87</td>\n",
       "      <td>13.67</td>\n",
       "      <td>10.25</td>\n",
       "      <td>10.83</td>\n",
       "      <td>12.58</td>\n",
       "      <td>18.50</td>\n",
       "      <td>15.04</td>\n",
       "    </tr>\n",
       "    <tr>\n",
       "      <th>248</th>\n",
       "      <td>61</td>\n",
       "      <td>9</td>\n",
       "      <td>6</td>\n",
       "      <td>17.62</td>\n",
       "      <td>12.54</td>\n",
       "      <td>11.58</td>\n",
       "      <td>10.17</td>\n",
       "      <td>14.54</td>\n",
       "      <td>9.13</td>\n",
       "      <td>14.09</td>\n",
       "      <td>10.79</td>\n",
       "      <td>12.71</td>\n",
       "      <td>11.71</td>\n",
       "      <td>15.83</td>\n",
       "      <td>20.25</td>\n",
       "    </tr>\n",
       "    <tr>\n",
       "      <th>247</th>\n",
       "      <td>61</td>\n",
       "      <td>9</td>\n",
       "      <td>5</td>\n",
       "      <td>12.67</td>\n",
       "      <td>10.00</td>\n",
       "      <td>6.38</td>\n",
       "      <td>5.83</td>\n",
       "      <td>10.41</td>\n",
       "      <td>5.83</td>\n",
       "      <td>9.38</td>\n",
       "      <td>8.54</td>\n",
       "      <td>9.04</td>\n",
       "      <td>9.96</td>\n",
       "      <td>13.62</td>\n",
       "      <td>15.04</td>\n",
       "    </tr>\n",
       "    <tr>\n",
       "      <th>246</th>\n",
       "      <td>61</td>\n",
       "      <td>9</td>\n",
       "      <td>4</td>\n",
       "      <td>6.79</td>\n",
       "      <td>3.04</td>\n",
       "      <td>4.79</td>\n",
       "      <td>3.17</td>\n",
       "      <td>4.75</td>\n",
       "      <td>2.17</td>\n",
       "      <td>1.25</td>\n",
       "      <td>2.21</td>\n",
       "      <td>2.96</td>\n",
       "      <td>1.75</td>\n",
       "      <td>5.41</td>\n",
       "      <td>3.37</td>\n",
       "    </tr>\n",
       "    <tr>\n",
       "      <th>245</th>\n",
       "      <td>61</td>\n",
       "      <td>9</td>\n",
       "      <td>3</td>\n",
       "      <td>11.63</td>\n",
       "      <td>7.29</td>\n",
       "      <td>7.00</td>\n",
       "      <td>5.75</td>\n",
       "      <td>5.58</td>\n",
       "      <td>5.37</td>\n",
       "      <td>5.88</td>\n",
       "      <td>5.88</td>\n",
       "      <td>5.25</td>\n",
       "      <td>7.96</td>\n",
       "      <td>6.79</td>\n",
       "      <td>7.12</td>\n",
       "    </tr>\n",
       "  </tbody>\n",
       "</table>\n",
       "</div>"
      ],
      "text/plain": [
       "     Yr  Mon  Dy    RPT    VAL    ROS    KIL    SHA   BIR    DUB    CLA  \\\n",
       "0    61    1   1  15.04  14.96  13.17   9.29    NaN  9.87  13.67  10.25   \n",
       "248  61    9   6  17.62  12.54  11.58  10.17  14.54  9.13  14.09  10.79   \n",
       "247  61    9   5  12.67  10.00   6.38   5.83  10.41  5.83   9.38   8.54   \n",
       "246  61    9   4   6.79   3.04   4.79   3.17   4.75  2.17   1.25   2.21   \n",
       "245  61    9   3  11.63   7.29   7.00   5.75   5.58  5.37   5.88   5.88   \n",
       "\n",
       "       MUL    CLO    BEL    MAL  \n",
       "0    10.83  12.58  18.50  15.04  \n",
       "248  12.71  11.71  15.83  20.25  \n",
       "247   9.04   9.96  13.62  15.04  \n",
       "246   2.96   1.75   5.41   3.37  \n",
       "245   5.25   7.96   6.79   7.12  "
      ]
     },
     "execution_count": 38,
     "metadata": {},
     "output_type": "execute_result"
    }
   ],
   "source": [
    "data.sort_values(by='Yr',inplace=True,ascending=True)\n",
    "data.head()"
   ]
  },
  {
   "cell_type": "markdown",
   "metadata": {},
   "source": [
    "Step13"
   ]
  },
  {
   "cell_type": "code",
   "execution_count": 39,
   "metadata": {},
   "outputs": [
    {
     "data": {
      "text/html": [
       "<div>\n",
       "<style scoped>\n",
       "    .dataframe tbody tr th:only-of-type {\n",
       "        vertical-align: middle;\n",
       "    }\n",
       "\n",
       "    .dataframe tbody tr th {\n",
       "        vertical-align: top;\n",
       "    }\n",
       "\n",
       "    .dataframe thead th {\n",
       "        text-align: right;\n",
       "    }\n",
       "</style>\n",
       "<table border=\"1\" class=\"dataframe\">\n",
       "  <thead>\n",
       "    <tr style=\"text-align: right;\">\n",
       "      <th></th>\n",
       "      <th>Yr</th>\n",
       "      <th>Mon</th>\n",
       "      <th>Dy</th>\n",
       "      <th>RPT</th>\n",
       "      <th>VAL</th>\n",
       "      <th>ROS</th>\n",
       "      <th>KIL</th>\n",
       "      <th>SHA</th>\n",
       "      <th>BIR</th>\n",
       "      <th>DUB</th>\n",
       "      <th>CLA</th>\n",
       "      <th>MUL</th>\n",
       "      <th>CLO</th>\n",
       "      <th>BEL</th>\n",
       "      <th>MAL</th>\n",
       "    </tr>\n",
       "  </thead>\n",
       "  <tbody>\n",
       "    <tr>\n",
       "      <th>0</th>\n",
       "      <td>61</td>\n",
       "      <td>1</td>\n",
       "      <td>1</td>\n",
       "      <td>15.04</td>\n",
       "      <td>14.96</td>\n",
       "      <td>13.17</td>\n",
       "      <td>9.29</td>\n",
       "      <td>NaN</td>\n",
       "      <td>9.87</td>\n",
       "      <td>13.67</td>\n",
       "      <td>10.25</td>\n",
       "      <td>10.83</td>\n",
       "      <td>12.58</td>\n",
       "      <td>18.50</td>\n",
       "      <td>15.04</td>\n",
       "    </tr>\n",
       "    <tr>\n",
       "      <th>2558</th>\n",
       "      <td>68</td>\n",
       "      <td>1</td>\n",
       "      <td>3</td>\n",
       "      <td>18.91</td>\n",
       "      <td>13.37</td>\n",
       "      <td>13.46</td>\n",
       "      <td>12.50</td>\n",
       "      <td>14.83</td>\n",
       "      <td>10.58</td>\n",
       "      <td>17.00</td>\n",
       "      <td>11.17</td>\n",
       "      <td>14.88</td>\n",
       "      <td>13.00</td>\n",
       "      <td>16.29</td>\n",
       "      <td>27.42</td>\n",
       "    </tr>\n",
       "    <tr>\n",
       "      <th>2557</th>\n",
       "      <td>68</td>\n",
       "      <td>1</td>\n",
       "      <td>2</td>\n",
       "      <td>12.92</td>\n",
       "      <td>12.75</td>\n",
       "      <td>13.21</td>\n",
       "      <td>10.54</td>\n",
       "      <td>13.83</td>\n",
       "      <td>8.63</td>\n",
       "      <td>12.67</td>\n",
       "      <td>10.21</td>\n",
       "      <td>11.04</td>\n",
       "      <td>9.59</td>\n",
       "      <td>15.25</td>\n",
       "      <td>22.04</td>\n",
       "    </tr>\n",
       "    <tr>\n",
       "      <th>2556</th>\n",
       "      <td>68</td>\n",
       "      <td>1</td>\n",
       "      <td>1</td>\n",
       "      <td>30.04</td>\n",
       "      <td>17.88</td>\n",
       "      <td>16.25</td>\n",
       "      <td>16.25</td>\n",
       "      <td>21.79</td>\n",
       "      <td>12.54</td>\n",
       "      <td>18.16</td>\n",
       "      <td>16.62</td>\n",
       "      <td>18.75</td>\n",
       "      <td>17.62</td>\n",
       "      <td>22.25</td>\n",
       "      <td>27.29</td>\n",
       "    </tr>\n",
       "    <tr>\n",
       "      <th>2574</th>\n",
       "      <td>68</td>\n",
       "      <td>1</td>\n",
       "      <td>19</td>\n",
       "      <td>9.79</td>\n",
       "      <td>14.09</td>\n",
       "      <td>10.25</td>\n",
       "      <td>4.88</td>\n",
       "      <td>10.75</td>\n",
       "      <td>6.42</td>\n",
       "      <td>8.08</td>\n",
       "      <td>11.79</td>\n",
       "      <td>7.25</td>\n",
       "      <td>9.42</td>\n",
       "      <td>23.04</td>\n",
       "      <td>17.96</td>\n",
       "    </tr>\n",
       "  </tbody>\n",
       "</table>\n",
       "</div>"
      ],
      "text/plain": [
       "      Yr  Mon  Dy    RPT    VAL    ROS    KIL    SHA    BIR    DUB    CLA  \\\n",
       "0     61    1   1  15.04  14.96  13.17   9.29    NaN   9.87  13.67  10.25   \n",
       "2558  68    1   3  18.91  13.37  13.46  12.50  14.83  10.58  17.00  11.17   \n",
       "2557  68    1   2  12.92  12.75  13.21  10.54  13.83   8.63  12.67  10.21   \n",
       "2556  68    1   1  30.04  17.88  16.25  16.25  21.79  12.54  18.16  16.62   \n",
       "2574  68    1  19   9.79  14.09  10.25   4.88  10.75   6.42   8.08  11.79   \n",
       "\n",
       "        MUL    CLO    BEL    MAL  \n",
       "0     10.83  12.58  18.50  15.04  \n",
       "2558  14.88  13.00  16.29  27.42  \n",
       "2557  11.04   9.59  15.25  22.04  \n",
       "2556  18.75  17.62  22.25  27.29  \n",
       "2574   7.25   9.42  23.04  17.96  "
      ]
     },
     "execution_count": 39,
     "metadata": {},
     "output_type": "execute_result"
    }
   ],
   "source": [
    "data.sort_values(by='Mon',inplace=True,ascending=True)\n",
    "data.head()"
   ]
  },
  {
   "cell_type": "markdown",
   "metadata": {},
   "source": [
    "Step14"
   ]
  },
  {
   "cell_type": "code",
   "execution_count": 40,
   "metadata": {},
   "outputs": [
    {
     "data": {
      "text/html": [
       "<div>\n",
       "<style scoped>\n",
       "    .dataframe tbody tr th:only-of-type {\n",
       "        vertical-align: middle;\n",
       "    }\n",
       "\n",
       "    .dataframe tbody tr th {\n",
       "        vertical-align: top;\n",
       "    }\n",
       "\n",
       "    .dataframe thead th {\n",
       "        text-align: right;\n",
       "    }\n",
       "</style>\n",
       "<table border=\"1\" class=\"dataframe\">\n",
       "  <thead>\n",
       "    <tr style=\"text-align: right;\">\n",
       "      <th></th>\n",
       "      <th>Yr</th>\n",
       "      <th>Mon</th>\n",
       "      <th>Dy</th>\n",
       "      <th>RPT</th>\n",
       "      <th>VAL</th>\n",
       "      <th>ROS</th>\n",
       "      <th>KIL</th>\n",
       "      <th>SHA</th>\n",
       "      <th>BIR</th>\n",
       "      <th>DUB</th>\n",
       "      <th>CLA</th>\n",
       "      <th>MUL</th>\n",
       "      <th>CLO</th>\n",
       "      <th>BEL</th>\n",
       "      <th>MAL</th>\n",
       "    </tr>\n",
       "  </thead>\n",
       "  <tbody>\n",
       "    <tr>\n",
       "      <th>0</th>\n",
       "      <td>61</td>\n",
       "      <td>1</td>\n",
       "      <td>1</td>\n",
       "      <td>15.04</td>\n",
       "      <td>14.96</td>\n",
       "      <td>13.17</td>\n",
       "      <td>9.29</td>\n",
       "      <td>NaN</td>\n",
       "      <td>9.87</td>\n",
       "      <td>13.67</td>\n",
       "      <td>10.25</td>\n",
       "      <td>10.83</td>\n",
       "      <td>12.58</td>\n",
       "      <td>18.50</td>\n",
       "      <td>15.04</td>\n",
       "    </tr>\n",
       "    <tr>\n",
       "      <th>2311</th>\n",
       "      <td>67</td>\n",
       "      <td>5</td>\n",
       "      <td>1</td>\n",
       "      <td>20.46</td>\n",
       "      <td>15.71</td>\n",
       "      <td>13.92</td>\n",
       "      <td>11.42</td>\n",
       "      <td>16.75</td>\n",
       "      <td>12.00</td>\n",
       "      <td>13.83</td>\n",
       "      <td>13.08</td>\n",
       "      <td>12.46</td>\n",
       "      <td>12.08</td>\n",
       "      <td>19.50</td>\n",
       "      <td>22.13</td>\n",
       "    </tr>\n",
       "    <tr>\n",
       "      <th>6452</th>\n",
       "      <td>78</td>\n",
       "      <td>9</td>\n",
       "      <td>1</td>\n",
       "      <td>8.42</td>\n",
       "      <td>6.13</td>\n",
       "      <td>9.87</td>\n",
       "      <td>5.25</td>\n",
       "      <td>3.21</td>\n",
       "      <td>5.71</td>\n",
       "      <td>7.25</td>\n",
       "      <td>3.50</td>\n",
       "      <td>7.33</td>\n",
       "      <td>6.50</td>\n",
       "      <td>7.62</td>\n",
       "      <td>15.96</td>\n",
       "    </tr>\n",
       "    <tr>\n",
       "      <th>5233</th>\n",
       "      <td>75</td>\n",
       "      <td>5</td>\n",
       "      <td>1</td>\n",
       "      <td>22.54</td>\n",
       "      <td>16.04</td>\n",
       "      <td>17.16</td>\n",
       "      <td>7.75</td>\n",
       "      <td>13.92</td>\n",
       "      <td>8.75</td>\n",
       "      <td>13.88</td>\n",
       "      <td>11.04</td>\n",
       "      <td>13.42</td>\n",
       "      <td>11.46</td>\n",
       "      <td>15.25</td>\n",
       "      <td>21.67</td>\n",
       "    </tr>\n",
       "    <tr>\n",
       "      <th>2434</th>\n",
       "      <td>67</td>\n",
       "      <td>9</td>\n",
       "      <td>1</td>\n",
       "      <td>10.71</td>\n",
       "      <td>9.33</td>\n",
       "      <td>9.92</td>\n",
       "      <td>6.29</td>\n",
       "      <td>11.00</td>\n",
       "      <td>7.50</td>\n",
       "      <td>8.87</td>\n",
       "      <td>9.04</td>\n",
       "      <td>7.79</td>\n",
       "      <td>6.71</td>\n",
       "      <td>12.92</td>\n",
       "      <td>15.59</td>\n",
       "    </tr>\n",
       "  </tbody>\n",
       "</table>\n",
       "</div>"
      ],
      "text/plain": [
       "      Yr  Mon  Dy    RPT    VAL    ROS    KIL    SHA    BIR    DUB    CLA  \\\n",
       "0     61    1   1  15.04  14.96  13.17   9.29    NaN   9.87  13.67  10.25   \n",
       "2311  67    5   1  20.46  15.71  13.92  11.42  16.75  12.00  13.83  13.08   \n",
       "6452  78    9   1   8.42   6.13   9.87   5.25   3.21   5.71   7.25   3.50   \n",
       "5233  75    5   1  22.54  16.04  17.16   7.75  13.92   8.75  13.88  11.04   \n",
       "2434  67    9   1  10.71   9.33   9.92   6.29  11.00   7.50   8.87   9.04   \n",
       "\n",
       "        MUL    CLO    BEL    MAL  \n",
       "0     10.83  12.58  18.50  15.04  \n",
       "2311  12.46  12.08  19.50  22.13  \n",
       "6452   7.33   6.50   7.62  15.96  \n",
       "5233  13.42  11.46  15.25  21.67  \n",
       "2434   7.79   6.71  12.92  15.59  "
      ]
     },
     "execution_count": 40,
     "metadata": {},
     "output_type": "execute_result"
    }
   ],
   "source": [
    "data.sort_values(by='Dy',inplace=True,ascending=True)\n",
    "data.head()"
   ]
  },
  {
   "cell_type": "markdown",
   "metadata": {},
   "source": [
    "Step15"
   ]
  },
  {
   "cell_type": "code",
   "execution_count": null,
   "metadata": {},
   "outputs": [],
   "source": []
  }
 ],
 "metadata": {
  "kernelspec": {
   "display_name": "Python 3",
   "language": "python",
   "name": "python3"
  },
  "language_info": {
   "codemirror_mode": {
    "name": "ipython",
    "version": 3
   },
   "file_extension": ".py",
   "mimetype": "text/x-python",
   "name": "python",
   "nbconvert_exporter": "python",
   "pygments_lexer": "ipython3",
   "version": "3.7.6"
  }
 },
 "nbformat": 4,
 "nbformat_minor": 4
}
