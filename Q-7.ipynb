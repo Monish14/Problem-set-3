{
 "cells": [
  {
   "cell_type": "markdown",
   "metadata": {},
   "source": [
    "## Question 7\n",
    "\n",
    "Create a vertical bar chart comparing the number of marriages and divorces per\n",
    "capita in the U.S. between 1900, 1950, and 2000."
   ]
  },
  {
   "cell_type": "code",
   "execution_count": 3,
   "metadata": {},
   "outputs": [
    {
     "data": {
      "text/plain": [
       "<matplotlib.axes._subplots.AxesSubplot at 0x1d79cb78508>"
      ]
     },
     "execution_count": 3,
     "metadata": {},
     "output_type": "execute_result"
    },
    {
     "data": {
      "image/png": "[encoded data removed]",
      "text/plain": [
       "<Figure size 432x288 with 1 Axes>"
      ]
     },
     "metadata": {
      "needs_background": "light"
     },
     "output_type": "display_data"
    }
   ],
   "source": [
    "import pandas as pd\n",
    "\n",
    "data7 = pd.read_csv(r'C:\\Users\\DELL\\Desktop\\Monish\\Data Programming\\Assignment-3\\us-marriages-divorces-1867-2014.csv')\n",
    "\n",
    "years=['1900','1950','2000']\n",
    "\n",
    "\n",
    "d1=(data7['Year'].isin(years))\n",
    "#d2=(data7['Year']=='1950')\n",
    "\n",
    "\n",
    "\n",
    "sample=data7.loc[d1]\n",
    "\n",
    "result1=sample['Marriages_per_1000'].tolist()\n",
    "\n",
    "result2=sample['Divorces_per_1000'].tolist()\n",
    "\n",
    "pd.DataFrame({'Marriages per capita': result1,'Divorces per capita': result2}, index=years).plot.bar()\n"
   ]
  },
  {
   "cell_type": "code",
   "execution_count": null,
   "metadata": {},
   "outputs": [],
   "source": []
  }
 ],
 "metadata": {
  "kernelspec": {
   "display_name": "Python 3",
   "language": "python",
   "name": "python3"
  },
  "language_info": {
   "codemirror_mode": {
    "name": "ipython",
    "version": 3
   },
   "file_extension": ".py",
   "mimetype": "text/x-python",
   "name": "python",
   "nbconvert_exporter": "python",
   "pygments_lexer": "ipython3",
   "version": "3.7.6"
  }
 },
 "nbformat": 4,
 "nbformat_minor": 4
}
